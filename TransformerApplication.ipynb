{
  "nbformat": 4,
  "nbformat_minor": 0,
  "metadata": {
    "colab": {
      "provenance": [],
      "gpuType": "T4",
      "authorship_tag": "ABX9TyO0cqSUAC4phtyfC5B6CBFc",
      "include_colab_link": true
    },
    "kernelspec": {
      "name": "python3",
      "display_name": "Python 3"
    },
    "language_info": {
      "name": "python"
    },
    "accelerator": "GPU"
  },
  "cells": [
    {
      "cell_type": "markdown",
      "metadata": {
        "id": "view-in-github",
        "colab_type": "text"
      },
      "source": [
        "<a href=\"https://colab.research.google.com/github/KushanNalinka/Transformer_neural_network/blob/main/TransformerApplication.ipynb\" target=\"_parent\"><img src=\"https://colab.research.google.com/assets/colab-badge.svg\" alt=\"Open In Colab\"/></a>"
      ]
    },
    {
      "cell_type": "code",
      "execution_count": null,
      "metadata": {
        "colab": {
          "base_uri": "https://localhost:8080/"
        },
        "id": "FP45WORCNWE5",
        "outputId": "e0c53cdc-1e4f-455a-da19-6763d9bf6f63"
      },
      "outputs": [
        {
          "output_type": "stream",
          "name": "stdout",
          "text": [
            "--2023-09-03 08:46:37--  http://storage.googleapis.com/download.tensorflow.org/data/spa-eng.zip\n",
            "Resolving storage.googleapis.com (storage.googleapis.com)... 142.251.31.128, 142.251.18.128, 142.250.153.128, ...\n",
            "Connecting to storage.googleapis.com (storage.googleapis.com)|142.251.31.128|:80... connected.\n",
            "HTTP request sent, awaiting response... 200 OK\n",
            "Length: 2638744 (2.5M) [application/zip]\n",
            "Saving to: ‘spa-eng.zip’\n",
            "\n",
            "spa-eng.zip         100%[===================>]   2.52M  3.92MB/s    in 0.6s    \n",
            "\n",
            "2023-09-03 08:46:38 (3.92 MB/s) - ‘spa-eng.zip’ saved [2638744/2638744]\n",
            "\n"
          ]
        }
      ],
      "source": [
        "!wget http://storage.googleapis.com/download.tensorflow.org/data/spa-eng.zip\n",
        "!unzip -q spa-eng.zip"
      ]
    },
    {
      "cell_type": "code",
      "source": [
        "text_file = \"spa-eng/spa.txt\"\n",
        "with open(text_file) as f:\n",
        "    lines = f.read().split(\"\\n\")[:-1]\n",
        "text_pairs = []\n",
        "for line in lines:\n",
        "    english, spanish = line.split(\"\\t\")\n",
        "    spanish = \"[start] \" + spanish + \" [end]\"\n",
        "    text_pairs.append((english, spanish))"
      ],
      "metadata": {
        "id": "aPS6WMSQOMpY"
      },
      "execution_count": null,
      "outputs": []
    },
    {
      "cell_type": "code",
      "source": [
        "import random\n",
        "print(random.choice(text_pairs))"
      ],
      "metadata": {
        "colab": {
          "base_uri": "https://localhost:8080/"
        },
        "id": "t8MANEB9O6mJ",
        "outputId": "10cdca56-1ad3-4eb4-f4b7-852f89500207"
      },
      "execution_count": null,
      "outputs": [
        {
          "output_type": "stream",
          "name": "stdout",
          "text": [
            "('Tom was killed by a suicide bomber.', '[start] A Tom le mató un kamikaze. [end]')\n"
          ]
        }
      ]
    },
    {
      "cell_type": "code",
      "source": [
        "import random\n",
        "random.shuffle(text_pairs)\n",
        "num_val_samples = int(0.15 * len(text_pairs))\n",
        "num_train_samples = len(text_pairs) - 2 * num_val_samples\n",
        "train_pairs = text_pairs[:num_train_samples]\n",
        "val_pairs = text_pairs[num_train_samples:num_train_samples + num_val_samples]\n",
        "test_pairs = text_pairs[num_train_samples + num_val_samples:]"
      ],
      "metadata": {
        "id": "OVUnWMhPPKlA"
      },
      "execution_count": null,
      "outputs": []
    },
    {
      "cell_type": "code",
      "source": [
        "import tensorflow as tf\n",
        "import string\n",
        "import re\n",
        "from tensorflow import keras\n",
        "from tensorflow.keras import layers\n",
        "\n",
        "strip_chars = string.punctuation + \"¿\"\n",
        "strip_chars = strip_chars.replace(\"[\", \"\")\n",
        "strip_chars = strip_chars.replace(\"]\", \"\")\n",
        "\n",
        "def custom_standardization(input_string):\n",
        "    lowercase = tf.strings.lower(input_string)\n",
        "    return tf.strings.regex_replace(\n",
        "        lowercase, f\"[{re.escape(strip_chars)}]\", \"\")\n",
        "\n",
        "vocab_size = 15000\n",
        "sequence_length = 20\n",
        "\n",
        "source_vectorization = layers.TextVectorization(\n",
        "    max_tokens=vocab_size,\n",
        "    output_mode=\"int\",\n",
        "    output_sequence_length=sequence_length,\n",
        ")\n",
        "target_vectorization = layers.TextVectorization(\n",
        "    max_tokens=vocab_size,\n",
        "    output_mode=\"int\",\n",
        "    output_sequence_length=sequence_length + 1,\n",
        "    standardize=custom_standardization,\n",
        ")\n",
        "train_english_texts = [pair[0] for pair in train_pairs]\n",
        "train_spanish_texts = [pair[1] for pair in train_pairs]\n",
        "source_vectorization.adapt(train_english_texts)\n",
        "target_vectorization.adapt(train_spanish_texts)"
      ],
      "metadata": {
        "id": "ywH04nwwQn1p"
      },
      "execution_count": null,
      "outputs": []
    },
    {
      "cell_type": "code",
      "source": [
        "batch_size = 64\n",
        "\n",
        "def format_dataset(eng, spa):\n",
        "    eng = source_vectorization(eng)\n",
        "    spa = target_vectorization(spa)\n",
        "    return ({\n",
        "        \"english\": eng,\n",
        "        \"spanish\": spa[:, :-1],\n",
        "    }, spa[:, 1:])\n",
        "\n",
        "def make_dataset(pairs):\n",
        "    eng_texts, spa_texts = zip(*pairs)\n",
        "    eng_texts = list(eng_texts)\n",
        "    spa_texts = list(spa_texts)\n",
        "    dataset = tf.data.Dataset.from_tensor_slices((eng_texts, spa_texts))\n",
        "    dataset = dataset.batch(batch_size)\n",
        "    dataset = dataset.map(format_dataset, num_parallel_calls=4)\n",
        "    return dataset.shuffle(2048).prefetch(16).cache()\n",
        "\n",
        "train_ds = make_dataset(train_pairs)\n",
        "val_ds = make_dataset(val_pairs)"
      ],
      "metadata": {
        "id": "5Hn7zSHmSYSC"
      },
      "execution_count": null,
      "outputs": []
    },
    {
      "cell_type": "code",
      "source": [
        "print(list(train_ds.as_numpy_iterator())[50]);"
      ],
      "metadata": {
        "colab": {
          "base_uri": "https://localhost:8080/"
        },
        "id": "90k2DJPDTaVX",
        "outputId": "ba430e56-afa6-4eba-b46f-ff0118148a7b"
      },
      "execution_count": null,
      "outputs": [
        {
          "output_type": "stream",
          "name": "stdout",
          "text": [
            "({'english': array([[ 108,  764, 2985, ...,    0,    0,    0],\n",
            "       [   3,  270,    2, ...,    0,    0,    0],\n",
            "       [  13,  371,  356, ...,    0,    0,    0],\n",
            "       ...,\n",
            "       [  24,   50,    6, ...,    0,    0,    0],\n",
            "       [  21,    8,   34, ...,    0,    0,    0],\n",
            "       [   3,  575,   75, ...,    0,    0,    0]]), 'spanish': array([[  2,  35,  74, ...,   0,   0,   0],\n",
            "       [  2,  35, 691, ...,   0,   0,   0],\n",
            "       [  2,  71,   5, ...,   0,   0,   0],\n",
            "       ...,\n",
            "       [  2,  27, 125, ...,   0,   0,   0],\n",
            "       [  2,  26,   7, ...,   0,   0,   0],\n",
            "       [  2,  14, 554, ...,   0,   0,   0]])}, array([[  35,   74, 2104, ...,    0,    0,    0],\n",
            "       [  35,  691,    5, ...,    0,    0,    0],\n",
            "       [  71,    5, 1576, ...,    0,    0,    0],\n",
            "       ...,\n",
            "       [  27,  125,    8, ...,    0,    0,    0],\n",
            "       [  26,    7,   12, ...,    0,    0,    0],\n",
            "       [  14,  554,   16, ...,    0,    0,    0]]))\n"
          ]
        }
      ]
    },
    {
      "cell_type": "code",
      "source": [
        "for inputs, targets in train_ds.take(1):\n",
        "    print(f\"inputs['english'].shape: {inputs['english'].shape}\")\n",
        "    print(f\"inputs['spanish'].shape: {inputs['spanish'].shape}\")\n",
        "    print(f\"targets.shape: {targets.shape}\")"
      ],
      "metadata": {
        "colab": {
          "base_uri": "https://localhost:8080/"
        },
        "id": "BT-LU04TT-Kp",
        "outputId": "71037777-ffad-466c-bdaa-a659cb76f8a7"
      },
      "execution_count": null,
      "outputs": [
        {
          "output_type": "stream",
          "name": "stdout",
          "text": [
            "inputs['english'].shape: (64, 20)\n",
            "inputs['spanish'].shape: (64, 20)\n",
            "targets.shape: (64, 20)\n"
          ]
        }
      ]
    },
    {
      "cell_type": "code",
      "source": [
        "from tensorflow import keras\n",
        "from tensorflow.keras import layers\n",
        "\n",
        "embed_dim = 256\n",
        "latent_dim = 1024\n",
        "\n",
        "source = keras.Input(shape=(None,), dtype=\"int64\", name=\"english\")\n",
        "x = layers.Embedding(vocab_size, embed_dim, mask_zero=True)(source)\n",
        "encoded_source = layers.Bidirectional(\n",
        "    layers.GRU(latent_dim), merge_mode=\"sum\")(x)"
      ],
      "metadata": {
        "id": "RplNYza2UHUk"
      },
      "execution_count": null,
      "outputs": []
    },
    {
      "cell_type": "code",
      "source": [
        "past_target = keras.Input(shape=(None,), dtype=\"int64\", name=\"spanish\")\n",
        "x = layers.Embedding(vocab_size, embed_dim, mask_zero=True)(past_target)\n",
        "decoder_gru = layers.GRU(latent_dim, return_sequences=True)\n",
        "x = decoder_gru(x, initial_state=encoded_source)\n",
        "x = layers.Dropout(0.5)(x)\n",
        "target_next_step = layers.Dense(vocab_size, activation=\"softmax\")(x)\n",
        "seq2seq_rnn = keras.Model([source, past_target], target_next_step)"
      ],
      "metadata": {
        "id": "zfdlZf-wVusd"
      },
      "execution_count": null,
      "outputs": []
    },
    {
      "cell_type": "code",
      "source": [
        "seq2seq_rnn.summary()"
      ],
      "metadata": {
        "colab": {
          "base_uri": "https://localhost:8080/"
        },
        "id": "do21Zw3KVyg1",
        "outputId": "aec82723-8213-489e-806b-2e6f10c18f25"
      },
      "execution_count": null,
      "outputs": [
        {
          "output_type": "stream",
          "name": "stdout",
          "text": [
            "Model: \"model\"\n",
            "__________________________________________________________________________________________________\n",
            " Layer (type)                   Output Shape         Param #     Connected to                     \n",
            "==================================================================================================\n",
            " english (InputLayer)           [(None, None)]       0           []                               \n",
            "                                                                                                  \n",
            " spanish (InputLayer)           [(None, None)]       0           []                               \n",
            "                                                                                                  \n",
            " embedding (Embedding)          (None, None, 256)    3840000     ['english[0][0]']                \n",
            "                                                                                                  \n",
            " embedding_1 (Embedding)        (None, None, 256)    3840000     ['spanish[0][0]']                \n",
            "                                                                                                  \n",
            " bidirectional (Bidirectional)  (None, 1024)         7876608     ['embedding[0][0]']              \n",
            "                                                                                                  \n",
            " gru_1 (GRU)                    (None, None, 1024)   3938304     ['embedding_1[0][0]',            \n",
            "                                                                  'bidirectional[0][0]']          \n",
            "                                                                                                  \n",
            " dropout (Dropout)              (None, None, 1024)   0           ['gru_1[0][0]']                  \n",
            "                                                                                                  \n",
            " dense (Dense)                  (None, None, 15000)  15375000    ['dropout[0][0]']                \n",
            "                                                                                                  \n",
            "==================================================================================================\n",
            "Total params: 34,869,912\n",
            "Trainable params: 34,869,912\n",
            "Non-trainable params: 0\n",
            "__________________________________________________________________________________________________\n"
          ]
        }
      ]
    },
    {
      "cell_type": "code",
      "source": [
        "seq2seq_rnn.compile(\n",
        "    optimizer=\"rmsprop\",\n",
        "    loss=\"sparse_categorical_crossentropy\",\n",
        "    metrics=[\"accuracy\"])\n",
        "seq2seq_rnn.fit(train_ds, epochs=15, validation_data=val_ds)"
      ],
      "metadata": {
        "colab": {
          "base_uri": "https://localhost:8080/"
        },
        "id": "WNfKjXTTV7dn",
        "outputId": "585a1577-3404-4b25-cc81-1cbafe885920"
      },
      "execution_count": null,
      "outputs": [
        {
          "output_type": "stream",
          "name": "stdout",
          "text": [
            "Epoch 1/15\n",
            "1302/1302 [==============================] - 144s 96ms/step - loss: 4.6825 - accuracy: 0.3177 - val_loss: 3.9098 - val_accuracy: 0.3855\n",
            "Epoch 2/15\n",
            "1302/1302 [==============================] - 106s 82ms/step - loss: 3.7319 - accuracy: 0.4138 - val_loss: 3.2587 - val_accuracy: 0.4682\n",
            "Epoch 3/15\n",
            "1302/1302 [==============================] - 106s 82ms/step - loss: 3.2207 - accuracy: 0.4714 - val_loss: 2.8877 - val_accuracy: 0.5157\n",
            "Epoch 4/15\n",
            "1302/1302 [==============================] - 106s 81ms/step - loss: 2.8652 - accuracy: 0.5122 - val_loss: 2.6356 - val_accuracy: 0.5498\n",
            "Epoch 5/15\n",
            "1302/1302 [==============================] - 106s 81ms/step - loss: 2.5978 - accuracy: 0.5439 - val_loss: 2.4589 - val_accuracy: 0.5754\n",
            "Epoch 6/15\n",
            "1302/1302 [==============================] - 105s 81ms/step - loss: 2.3693 - accuracy: 0.5730 - val_loss: 2.3294 - val_accuracy: 0.5944\n",
            "Epoch 7/15\n",
            "1302/1302 [==============================] - 106s 81ms/step - loss: 2.1815 - accuracy: 0.5971 - val_loss: 2.2285 - val_accuracy: 0.6094\n",
            "Epoch 8/15\n",
            "1302/1302 [==============================] - 105s 81ms/step - loss: 2.0236 - accuracy: 0.6178 - val_loss: 2.1557 - val_accuracy: 0.6224\n",
            "Epoch 9/15\n",
            "1302/1302 [==============================] - 106s 81ms/step - loss: 1.8825 - accuracy: 0.6373 - val_loss: 2.0988 - val_accuracy: 0.6310\n",
            "Epoch 10/15\n",
            "1302/1302 [==============================] - 106s 81ms/step - loss: 1.7662 - accuracy: 0.6535 - val_loss: 2.0546 - val_accuracy: 0.6386\n",
            "Epoch 11/15\n",
            "1302/1302 [==============================] - 106s 81ms/step - loss: 1.6638 - accuracy: 0.6680 - val_loss: 2.0339 - val_accuracy: 0.6423\n",
            "Epoch 12/15\n",
            "1302/1302 [==============================] - 106s 81ms/step - loss: 1.5712 - accuracy: 0.6811 - val_loss: 2.0137 - val_accuracy: 0.6466\n",
            "Epoch 13/15\n",
            "1302/1302 [==============================] - 106s 81ms/step - loss: 1.4860 - accuracy: 0.6930 - val_loss: 1.9768 - val_accuracy: 0.6523\n",
            "Epoch 14/15\n",
            "1302/1302 [==============================] - 106s 81ms/step - loss: 1.4161 - accuracy: 0.7039 - val_loss: 1.9628 - val_accuracy: 0.6544\n",
            "Epoch 15/15\n",
            "1302/1302 [==============================] - 106s 81ms/step - loss: 1.3509 - accuracy: 0.7132 - val_loss: 1.9466 - val_accuracy: 0.6574\n"
          ]
        },
        {
          "output_type": "execute_result",
          "data": {
            "text/plain": [
              "<keras.callbacks.History at 0x7cf26b1a2290>"
            ]
          },
          "metadata": {},
          "execution_count": 13
        }
      ]
    },
    {
      "cell_type": "code",
      "source": [
        "import numpy as np\n",
        "spa_vocab = target_vectorization.get_vocabulary()\n",
        "spa_index_lookup = dict(zip(range(len(spa_vocab)), spa_vocab))\n",
        "max_decoded_sentence_length = 20"
      ],
      "metadata": {
        "id": "dO6ra1sPWM_U"
      },
      "execution_count": null,
      "outputs": []
    },
    {
      "cell_type": "code",
      "source": [
        "test_eng_texts = [pair[0] for pair in test_pairs]\n"
      ],
      "metadata": {
        "id": "alqk7xFcdxSU"
      },
      "execution_count": null,
      "outputs": []
    },
    {
      "cell_type": "code",
      "source": [
        "len(test_eng_texts)"
      ],
      "metadata": {
        "colab": {
          "base_uri": "https://localhost:8080/"
        },
        "id": "l2wupz47eioW",
        "outputId": "70019bc1-0e0c-43e7-d930-e887895364de"
      },
      "execution_count": null,
      "outputs": [
        {
          "output_type": "execute_result",
          "data": {
            "text/plain": [
              "17844"
            ]
          },
          "metadata": {},
          "execution_count": 19
        }
      ]
    },
    {
      "cell_type": "code",
      "source": [
        "input_sentence = random.choice(test_eng_texts);\n",
        "print(input_sentence)"
      ],
      "metadata": {
        "colab": {
          "base_uri": "https://localhost:8080/"
        },
        "id": "nO2wmiPTerd-",
        "outputId": "057e297b-f108-4548-fe9d-4674b0a1cefa"
      },
      "execution_count": null,
      "outputs": [
        {
          "output_type": "stream",
          "name": "stdout",
          "text": [
            "I've never felt so exhilarated.\n"
          ]
        }
      ]
    },
    {
      "cell_type": "code",
      "source": [
        "tokenized_input_sentence = source_vectorization([input_sentence])\n",
        "print(tokenized_input_sentence)"
      ],
      "metadata": {
        "colab": {
          "base_uri": "https://localhost:8080/"
        },
        "id": "TuF175HrevjV",
        "outputId": "92b76dea-798a-4edd-e689-d880de19932c"
      },
      "execution_count": null,
      "outputs": [
        {
          "output_type": "stream",
          "name": "stdout",
          "text": [
            "tf.Tensor(\n",
            "[[108  97 439  84   1   0   0   0   0   0   0   0   0   0   0   0   0   0\n",
            "    0   0]], shape=(1, 20), dtype=int64)\n"
          ]
        }
      ]
    },
    {
      "cell_type": "code",
      "source": [
        "def decode_sequence(input_sentence):\n",
        "    tokenized_input_sentence = source_vectorization([input_sentence])\n",
        "    decoded_sentence = \"[start]\"\n",
        "    for i in range(max_decoded_sentence_length):\n",
        "        tokenized_target_sentence = target_vectorization([decoded_sentence])\n",
        "        next_token_predictions = seq2seq_rnn.predict(\n",
        "            [tokenized_input_sentence, tokenized_target_sentence])\n",
        "        sampled_token_index = np.argmax(next_token_predictions[0, i, :])\n",
        "        sampled_token = spa_index_lookup[sampled_token_index]\n",
        "        decoded_sentence += \" \" + sampled_token\n",
        "        if sampled_token == \"[end]\":\n",
        "            break\n",
        "    return decoded_sentence\n",
        "\n",
        "test_eng_texts = [pair[0] for pair in test_pairs]\n",
        "for _ in range(20):\n",
        "    input_sentence = random.choice(test_eng_texts)\n",
        "    print(\"-\")\n",
        "    print(input_sentence)\n",
        "    print(decode_sequence(input_sentence))"
      ],
      "metadata": {
        "colab": {
          "base_uri": "https://localhost:8080/"
        },
        "id": "U7F6YysBfyQc",
        "outputId": "758a4edb-c865-4f03-ca21-d34674492e75"
      },
      "execution_count": null,
      "outputs": [
        {
          "output_type": "stream",
          "name": "stdout",
          "text": [
            "-\n",
            "Everybody needs something to believe in.\n",
            "1/1 [==============================] - 0s 24ms/step\n",
            "1/1 [==============================] - 0s 24ms/step\n",
            "1/1 [==============================] - 0s 26ms/step\n",
            "1/1 [==============================] - 0s 27ms/step\n",
            "1/1 [==============================] - 0s 25ms/step\n",
            "1/1 [==============================] - 0s 24ms/step\n",
            "1/1 [==============================] - 0s 32ms/step\n",
            "1/1 [==============================] - 0s 27ms/step\n",
            "1/1 [==============================] - 0s 26ms/step\n",
            "1/1 [==============================] - 0s 23ms/step\n",
            "1/1 [==============================] - 0s 26ms/step\n",
            "[start] todo el mundo lo que debe hablar en el lugar [end]\n",
            "-\n",
            "You can't fix it. You should buy a new one.\n",
            "1/1 [==============================] - 0s 26ms/step\n",
            "1/1 [==============================] - 0s 23ms/step\n",
            "1/1 [==============================] - 0s 27ms/step\n",
            "1/1 [==============================] - 0s 25ms/step\n",
            "1/1 [==============================] - 0s 26ms/step\n",
            "1/1 [==============================] - 0s 27ms/step\n",
            "1/1 [==============================] - 0s 28ms/step\n",
            "1/1 [==============================] - 0s 28ms/step\n",
            "1/1 [==============================] - 0s 28ms/step\n",
            "[start] no puedes creer que hayas comprado algo nuevo [end]\n",
            "-\n",
            "You had better take an umbrella with you.\n",
            "1/1 [==============================] - 0s 28ms/step\n",
            "1/1 [==============================] - 0s 24ms/step\n",
            "1/1 [==============================] - 0s 27ms/step\n",
            "1/1 [==============================] - 0s 23ms/step\n",
            "1/1 [==============================] - 0s 36ms/step\n",
            "1/1 [==============================] - 0s 25ms/step\n",
            "1/1 [==============================] - 0s 25ms/step\n",
            "1/1 [==============================] - 0s 25ms/step\n",
            "[start] mejor hubieras mejor te llevo un paraguas [end]\n",
            "-\n",
            "I need a vacation.\n",
            "1/1 [==============================] - 0s 23ms/step\n",
            "1/1 [==============================] - 0s 24ms/step\n",
            "1/1 [==============================] - 0s 25ms/step\n",
            "1/1 [==============================] - 0s 24ms/step\n",
            "[start] necesito unas vacaciones [end]\n",
            "-\n",
            "She waited for him for hours.\n",
            "1/1 [==============================] - 0s 30ms/step\n",
            "1/1 [==============================] - 0s 36ms/step\n",
            "1/1 [==============================] - 0s 23ms/step\n",
            "1/1 [==============================] - 0s 27ms/step\n",
            "1/1 [==============================] - 0s 24ms/step\n",
            "1/1 [==============================] - 0s 25ms/step\n",
            "[start] ella lo esperó por horas [end]\n",
            "-\n",
            "That's a problem.\n",
            "1/1 [==============================] - 0s 24ms/step\n",
            "1/1 [==============================] - 0s 23ms/step\n",
            "1/1 [==============================] - 0s 24ms/step\n",
            "1/1 [==============================] - 0s 23ms/step\n",
            "1/1 [==============================] - 0s 23ms/step\n",
            "[start] ese es un problema [end]\n",
            "-\n",
            "Everyone is waiting to see his new film.\n",
            "1/1 [==============================] - 0s 27ms/step\n",
            "1/1 [==============================] - 0s 27ms/step\n",
            "1/1 [==============================] - 0s 24ms/step\n",
            "1/1 [==============================] - 0s 26ms/step\n",
            "1/1 [==============================] - 0s 29ms/step\n",
            "1/1 [==============================] - 0s 25ms/step\n",
            "1/1 [==============================] - 0s 24ms/step\n",
            "1/1 [==============================] - 0s 24ms/step\n",
            "1/1 [==============================] - 0s 24ms/step\n",
            "1/1 [==============================] - 0s 23ms/step\n",
            "[start] todos están a punto de ver su nuevo película [end]\n",
            "-\n",
            "I shot Tom.\n",
            "1/1 [==============================] - 0s 24ms/step\n",
            "1/1 [==============================] - 0s 26ms/step\n",
            "1/1 [==============================] - 0s 38ms/step\n",
            "1/1 [==============================] - 0s 39ms/step\n",
            "1/1 [==============================] - 0s 36ms/step\n",
            "[start] me encontré a tom [end]\n",
            "-\n",
            "We still have more time.\n",
            "1/1 [==============================] - 0s 40ms/step\n",
            "1/1 [==============================] - 0s 36ms/step\n",
            "1/1 [==============================] - 0s 35ms/step\n",
            "1/1 [==============================] - 0s 35ms/step\n",
            "[start] todavía tenemos tiempo [end]\n",
            "-\n",
            "Even the mayor breathes dioxin.\n",
            "1/1 [==============================] - 0s 40ms/step\n",
            "1/1 [==============================] - 0s 36ms/step\n",
            "1/1 [==============================] - 0s 35ms/step\n",
            "1/1 [==============================] - 0s 33ms/step\n",
            "1/1 [==============================] - 0s 41ms/step\n",
            "1/1 [==============================] - 0s 33ms/step\n",
            "[start] incluso el [UNK] [UNK] [UNK] [end]\n",
            "-\n",
            "The employees are all unionized.\n",
            "1/1 [==============================] - 0s 33ms/step\n",
            "1/1 [==============================] - 0s 37ms/step\n",
            "1/1 [==============================] - 0s 37ms/step\n",
            "1/1 [==============================] - 0s 49ms/step\n",
            "1/1 [==============================] - 0s 37ms/step\n",
            "1/1 [==============================] - 0s 35ms/step\n",
            "[start] todos los hombres son [UNK] [end]\n",
            "-\n",
            "He's my best friend. It's as if he were my brother.\n",
            "1/1 [==============================] - 0s 43ms/step\n",
            "1/1 [==============================] - 0s 46ms/step\n",
            "1/1 [==============================] - 0s 47ms/step\n",
            "1/1 [==============================] - 0s 25ms/step\n",
            "1/1 [==============================] - 0s 25ms/step\n",
            "1/1 [==============================] - 0s 26ms/step\n",
            "1/1 [==============================] - 0s 30ms/step\n",
            "1/1 [==============================] - 0s 31ms/step\n",
            "1/1 [==============================] - 0s 26ms/step\n",
            "1/1 [==============================] - 0s 25ms/step\n",
            "1/1 [==============================] - 0s 25ms/step\n",
            "1/1 [==============================] - 0s 26ms/step\n",
            "1/1 [==============================] - 0s 25ms/step\n",
            "1/1 [==============================] - 0s 28ms/step\n",
            "1/1 [==============================] - 0s 27ms/step\n",
            "[start] es mi mejor es que un padre que mi hermano es como mi hermano [end]\n",
            "-\n",
            "I bought a house.\n",
            "1/1 [==============================] - 0s 24ms/step\n",
            "1/1 [==============================] - 0s 24ms/step\n",
            "1/1 [==============================] - 0s 25ms/step\n",
            "1/1 [==============================] - 0s 29ms/step\n",
            "[start] compré una casa [end]\n",
            "-\n",
            "This won't happen again.\n",
            "1/1 [==============================] - 0s 26ms/step\n",
            "1/1 [==============================] - 0s 25ms/step\n",
            "1/1 [==============================] - 0s 27ms/step\n",
            "1/1 [==============================] - 0s 27ms/step\n",
            "1/1 [==============================] - 0s 27ms/step\n",
            "1/1 [==============================] - 0s 24ms/step\n",
            "1/1 [==============================] - 0s 25ms/step\n",
            "[start] esto no se va a pasar [end]\n",
            "-\n",
            "This is enough for me.\n",
            "1/1 [==============================] - 0s 26ms/step\n",
            "1/1 [==============================] - 0s 24ms/step\n",
            "1/1 [==============================] - 0s 23ms/step\n",
            "1/1 [==============================] - 0s 25ms/step\n",
            "1/1 [==============================] - 0s 26ms/step\n",
            "[start] esto es para mí [end]\n",
            "-\n",
            "I hope you understand.\n",
            "1/1 [==============================] - 0s 25ms/step\n",
            "1/1 [==============================] - 0s 27ms/step\n",
            "1/1 [==============================] - 0s 22ms/step\n",
            "1/1 [==============================] - 0s 29ms/step\n",
            "1/1 [==============================] - 0s 24ms/step\n",
            "[start] espero que la razón [end]\n",
            "-\n",
            "Many kinds of birds live in Japan.\n",
            "1/1 [==============================] - 0s 28ms/step\n",
            "1/1 [==============================] - 0s 27ms/step\n",
            "1/1 [==============================] - 0s 24ms/step\n",
            "1/1 [==============================] - 0s 26ms/step\n",
            "1/1 [==============================] - 0s 24ms/step\n",
            "1/1 [==============================] - 0s 25ms/step\n",
            "1/1 [==============================] - 0s 25ms/step\n",
            "[start] muchos problemas en japón es japón [end]\n",
            "-\n",
            "He is the son of a wealthy family.\n",
            "1/1 [==============================] - 0s 26ms/step\n",
            "1/1 [==============================] - 0s 24ms/step\n",
            "1/1 [==============================] - 0s 26ms/step\n",
            "1/1 [==============================] - 0s 25ms/step\n",
            "1/1 [==============================] - 0s 23ms/step\n",
            "1/1 [==============================] - 0s 27ms/step\n",
            "1/1 [==============================] - 0s 22ms/step\n",
            "1/1 [==============================] - 0s 23ms/step\n",
            "1/1 [==============================] - 0s 26ms/step\n",
            "1/1 [==============================] - 0s 28ms/step\n",
            "[start] Él es el hombre de un familia de [UNK] [end]\n",
            "-\n",
            "As far as I know, she's still unmarried.\n",
            "1/1 [==============================] - 0s 24ms/step\n",
            "1/1 [==============================] - 0s 29ms/step\n",
            "1/1 [==============================] - 0s 24ms/step\n",
            "1/1 [==============================] - 0s 24ms/step\n",
            "1/1 [==============================] - 0s 25ms/step\n",
            "1/1 [==============================] - 0s 24ms/step\n",
            "1/1 [==============================] - 0s 28ms/step\n",
            "1/1 [==============================] - 0s 24ms/step\n",
            "1/1 [==============================] - 0s 24ms/step\n",
            "1/1 [==============================] - 0s 31ms/step\n",
            "1/1 [==============================] - 0s 23ms/step\n",
            "[start] por lo que sé que él todavía está siendo [UNK] [end]\n",
            "-\n",
            "It's good.\n",
            "1/1 [==============================] - 0s 25ms/step\n",
            "1/1 [==============================] - 0s 22ms/step\n",
            "1/1 [==============================] - 0s 22ms/step\n",
            "[start] es bueno [end]\n"
          ]
        }
      ]
    },
    {
      "cell_type": "code",
      "source": [
        "import tensorflow as tf\n",
        "from tensorflow import keras\n",
        "from tensorflow.keras import layers\n",
        "\n",
        "class TransformerEncoder(layers.Layer):\n",
        "    def __init__(self, embed_dim, dense_dim, num_heads, **kwargs):\n",
        "        super().__init__(**kwargs)\n",
        "        self.embed_dim = embed_dim\n",
        "        self.dense_dim = dense_dim\n",
        "        self.num_heads = num_heads\n",
        "        self.attention = layers.MultiHeadAttention(\n",
        "            num_heads=num_heads, key_dim=embed_dim)\n",
        "        self.dense_proj = keras.Sequential(\n",
        "            [layers.Dense(dense_dim, activation=\"relu\"),\n",
        "             layers.Dense(embed_dim),]\n",
        "        )\n",
        "        self.layernorm_1 = layers.LayerNormalization()\n",
        "        self.layernorm_2 = layers.LayerNormalization()\n",
        "\n",
        "    def call(self, inputs, mask=None):\n",
        "        if mask is not None:\n",
        "            mask = mask[:, tf.newaxis, :]\n",
        "        attention_output = self.attention(\n",
        "            inputs, inputs, attention_mask=mask)\n",
        "        proj_input = self.layernorm_1(inputs + attention_output)\n",
        "        proj_output = self.dense_proj(proj_input)\n",
        "        return self.layernorm_2(proj_input + proj_output)\n",
        "\n",
        "    def get_config(self):\n",
        "        config = super().get_config()\n",
        "        config.update({\n",
        "            \"embed_dim\": self.embed_dim,\n",
        "            \"num_heads\": self.num_heads,\n",
        "            \"dense_dim\": self.dense_dim,\n",
        "        })\n",
        "        return config"
      ],
      "metadata": {
        "id": "ZyQ2ohwWfzHY"
      },
      "execution_count": null,
      "outputs": []
    },
    {
      "cell_type": "code",
      "source": [
        "\n",
        "class TransformerDecoder(layers.Layer):\n",
        "    def __init__(self, embed_dim, dense_dim, num_heads, **kwargs):\n",
        "        super().__init__(**kwargs)\n",
        "        self.embed_dim = embed_dim\n",
        "        self.dense_dim = dense_dim\n",
        "        self.num_heads = num_heads\n",
        "        self.attention_1 = layers.MultiHeadAttention(\n",
        "            num_heads=num_heads, key_dim=embed_dim)\n",
        "        self.attention_2 = layers.MultiHeadAttention(\n",
        "            num_heads=num_heads, key_dim=embed_dim)\n",
        "        self.dense_proj = keras.Sequential(\n",
        "            [layers.Dense(dense_dim, activation=\"relu\"),\n",
        "             layers.Dense(embed_dim),]\n",
        "        )\n",
        "        self.layernorm_1 = layers.LayerNormalization()\n",
        "        self.layernorm_2 = layers.LayerNormalization()\n",
        "        self.layernorm_3 = layers.LayerNormalization()\n",
        "        self.supports_masking = True\n",
        "\n",
        "    def get_config(self):\n",
        "        config = super().get_config()\n",
        "        config.update({\n",
        "            \"embed_dim\": self.embed_dim,\n",
        "            \"num_heads\": self.num_heads,\n",
        "            \"dense_dim\": self.dense_dim,\n",
        "        })\n",
        "        return config\n",
        "\n",
        "    def get_causal_attention_mask(self, inputs):\n",
        "        input_shape = tf.shape(inputs)\n",
        "        batch_size, sequence_length = input_shape[0], input_shape[1]\n",
        "        i = tf.range(sequence_length)[:, tf.newaxis]\n",
        "        j = tf.range(sequence_length)\n",
        "        mask = tf.cast(i >= j, dtype=\"int32\")\n",
        "        mask = tf.reshape(mask, (1, input_shape[1], input_shape[1]))\n",
        "        mult = tf.concat(\n",
        "            [tf.expand_dims(batch_size, -1),\n",
        "             tf.constant([1, 1], dtype=tf.int32)], axis=0)\n",
        "        return tf.tile(mask, mult)\n",
        "\n",
        "    def call(self, inputs, encoder_outputs, mask=None):\n",
        "        causal_mask = self.get_causal_attention_mask(inputs)\n",
        "        if mask is not None:\n",
        "            padding_mask = tf.cast(\n",
        "                mask[:, tf.newaxis, :], dtype=\"int32\")\n",
        "            padding_mask = tf.minimum(padding_mask, causal_mask)\n",
        "        else:\n",
        "            padding_mask = mask\n",
        "        attention_output_1 = self.attention_1(\n",
        "            query=inputs,\n",
        "            value=inputs,\n",
        "            key=inputs,\n",
        "            attention_mask=causal_mask)\n",
        "        attention_output_1 = self.layernorm_1(inputs + attention_output_1)\n",
        "        attention_output_2 = self.attention_2(\n",
        "            query=attention_output_1,\n",
        "            value=encoder_outputs,\n",
        "            key=encoder_outputs,\n",
        "            attention_mask=padding_mask,\n",
        "        )\n",
        "        attention_output_2 = self.layernorm_2(\n",
        "            attention_output_1 + attention_output_2)\n",
        "        proj_output = self.dense_proj(attention_output_2)\n",
        "        return self.layernorm_3(attention_output_2 + proj_output)"
      ],
      "metadata": {
        "id": "GmBCruYnjehg"
      },
      "execution_count": null,
      "outputs": []
    },
    {
      "cell_type": "code",
      "source": [
        "class PositionalEmbedding(layers.Layer):\n",
        "    def __init__(self, sequence_length, input_dim, output_dim, **kwargs):\n",
        "        super().__init__(**kwargs)\n",
        "        self.token_embeddings = layers.Embedding(\n",
        "            input_dim=input_dim, output_dim=output_dim)\n",
        "        self.position_embeddings = layers.Embedding(\n",
        "            input_dim=sequence_length, output_dim=output_dim)\n",
        "        self.sequence_length = sequence_length\n",
        "        self.input_dim = input_dim\n",
        "        self.output_dim = output_dim\n",
        "\n",
        "    def call(self, inputs):\n",
        "        length = tf.shape(inputs)[-1]\n",
        "        positions = tf.range(start=0, limit=length, delta=1)\n",
        "        embedded_tokens = self.token_embeddings(inputs)\n",
        "        embedded_positions = self.position_embeddings(positions)\n",
        "        return embedded_tokens + embedded_positions\n",
        "\n",
        "    def compute_mask(self, inputs, mask=None):\n",
        "        return tf.math.not_equal(inputs, 0)\n",
        "\n",
        "    def get_config(self):\n",
        "        config = super(PositionalEmbedding, self).get_config()\n",
        "        config.update({\n",
        "            \"output_dim\": self.output_dim,\n",
        "            \"sequence_length\": self.sequence_length,\n",
        "            \"input_dim\": self.input_dim,\n",
        "        })\n",
        "        return config"
      ],
      "metadata": {
        "id": "Zi-HAU0ykrOI"
      },
      "execution_count": null,
      "outputs": []
    },
    {
      "cell_type": "code",
      "source": [
        "embed_dim = 256\n",
        "dense_dim = 2048\n",
        "num_heads = 8\n",
        "\n",
        "encoder_inputs = keras.Input(shape=(None,), dtype=\"int64\", name=\"english\")\n",
        "x = PositionalEmbedding(sequence_length, vocab_size, embed_dim)(encoder_inputs)\n",
        "encoder_outputs = TransformerEncoder(embed_dim, dense_dim, num_heads)(x)\n",
        "\n",
        "decoder_inputs = keras.Input(shape=(None,), dtype=\"int64\", name=\"spanish\")\n",
        "x = PositionalEmbedding(sequence_length, vocab_size, embed_dim)(decoder_inputs)\n",
        "x = TransformerDecoder(embed_dim, dense_dim, num_heads)(x, encoder_outputs)\n",
        "x = layers.Dropout(0.5)(x)\n",
        "decoder_outputs = layers.Dense(vocab_size, activation=\"softmax\")(x)\n",
        "transformer = keras.Model([encoder_inputs, decoder_inputs], decoder_outputs)"
      ],
      "metadata": {
        "id": "zuDGwwwylUyc"
      },
      "execution_count": null,
      "outputs": []
    },
    {
      "cell_type": "code",
      "source": [
        "transformer.compile(\n",
        "    optimizer=\"rmsprop\",\n",
        "    loss=\"sparse_categorical_crossentropy\",\n",
        "    metrics=[\"accuracy\"])\n",
        "transformer.fit(train_ds, epochs=30, validation_data=val_ds)"
      ],
      "metadata": {
        "colab": {
          "base_uri": "https://localhost:8080/"
        },
        "id": "vSlP_XBdl07G",
        "outputId": "b74df5a0-87c5-4068-eb0e-52965bb76a07"
      },
      "execution_count": 32,
      "outputs": [
        {
          "output_type": "stream",
          "name": "stdout",
          "text": [
            "Epoch 1/30\n",
            "1302/1302 [==============================] - 107s 77ms/step - loss: 1.6300 - accuracy: 0.7614 - val_loss: 2.4482 - val_accuracy: 0.6698\n",
            "Epoch 2/30\n",
            "1302/1302 [==============================] - 84s 64ms/step - loss: 1.6058 - accuracy: 0.7654 - val_loss: 2.4484 - val_accuracy: 0.6723\n",
            "Epoch 3/30\n",
            "1302/1302 [==============================] - 87s 67ms/step - loss: 1.5995 - accuracy: 0.7665 - val_loss: 2.4997 - val_accuracy: 0.6669\n",
            "Epoch 4/30\n",
            "1302/1302 [==============================] - 85s 66ms/step - loss: 1.5895 - accuracy: 0.7683 - val_loss: 2.5126 - val_accuracy: 0.6618\n",
            "Epoch 5/30\n",
            "1302/1302 [==============================] - 83s 64ms/step - loss: 1.5787 - accuracy: 0.7700 - val_loss: 2.4951 - val_accuracy: 0.6680\n",
            "Epoch 6/30\n",
            "1302/1302 [==============================] - 84s 65ms/step - loss: 1.5638 - accuracy: 0.7726 - val_loss: 2.5266 - val_accuracy: 0.6667\n",
            "Epoch 7/30\n",
            "1302/1302 [==============================] - 84s 65ms/step - loss: 1.5506 - accuracy: 0.7751 - val_loss: 2.5071 - val_accuracy: 0.6717\n",
            "Epoch 8/30\n",
            "1302/1302 [==============================] - 85s 65ms/step - loss: 1.5408 - accuracy: 0.7767 - val_loss: 2.5543 - val_accuracy: 0.6697\n",
            "Epoch 9/30\n",
            "1302/1302 [==============================] - 86s 66ms/step - loss: 1.5305 - accuracy: 0.7786 - val_loss: 2.5854 - val_accuracy: 0.6678\n",
            "Epoch 10/30\n",
            "1302/1302 [==============================] - 83s 64ms/step - loss: 1.5218 - accuracy: 0.7800 - val_loss: 2.5532 - val_accuracy: 0.6699\n",
            "Epoch 11/30\n",
            "1302/1302 [==============================] - 84s 64ms/step - loss: 1.5092 - accuracy: 0.7817 - val_loss: 2.5835 - val_accuracy: 0.6653\n",
            "Epoch 12/30\n",
            "1302/1302 [==============================] - 86s 66ms/step - loss: 1.4984 - accuracy: 0.7841 - val_loss: 2.5989 - val_accuracy: 0.6671\n",
            "Epoch 13/30\n",
            "1302/1302 [==============================] - 84s 64ms/step - loss: 1.4856 - accuracy: 0.7865 - val_loss: 2.5820 - val_accuracy: 0.6733\n",
            "Epoch 14/30\n",
            "1302/1302 [==============================] - 86s 66ms/step - loss: 1.4741 - accuracy: 0.7886 - val_loss: 2.5910 - val_accuracy: 0.6727\n",
            "Epoch 15/30\n",
            "1302/1302 [==============================] - 84s 65ms/step - loss: 1.4642 - accuracy: 0.7903 - val_loss: 2.6079 - val_accuracy: 0.6679\n",
            "Epoch 16/30\n",
            "1302/1302 [==============================] - 87s 67ms/step - loss: 1.4525 - accuracy: 0.7923 - val_loss: 2.6556 - val_accuracy: 0.6716\n",
            "Epoch 17/30\n",
            "1302/1302 [==============================] - 85s 65ms/step - loss: 1.4403 - accuracy: 0.7943 - val_loss: 2.6580 - val_accuracy: 0.6707\n",
            "Epoch 18/30\n",
            "1302/1302 [==============================] - 85s 66ms/step - loss: 1.4306 - accuracy: 0.7959 - val_loss: 2.7075 - val_accuracy: 0.6698\n",
            "Epoch 19/30\n",
            "1302/1302 [==============================] - 84s 64ms/step - loss: 1.4192 - accuracy: 0.7980 - val_loss: 2.6838 - val_accuracy: 0.6694\n",
            "Epoch 20/30\n",
            "1302/1302 [==============================] - 86s 66ms/step - loss: 1.4079 - accuracy: 0.7998 - val_loss: 2.7081 - val_accuracy: 0.6725\n",
            "Epoch 21/30\n",
            "1302/1302 [==============================] - 85s 66ms/step - loss: 1.3980 - accuracy: 0.8019 - val_loss: 2.7119 - val_accuracy: 0.6715\n",
            "Epoch 22/30\n",
            "1302/1302 [==============================] - 86s 66ms/step - loss: 1.3905 - accuracy: 0.8028 - val_loss: 2.7487 - val_accuracy: 0.6715\n",
            "Epoch 23/30\n",
            "1302/1302 [==============================] - 86s 66ms/step - loss: 1.3799 - accuracy: 0.8048 - val_loss: 2.7367 - val_accuracy: 0.6674\n",
            "Epoch 24/30\n",
            "1302/1302 [==============================] - 85s 65ms/step - loss: 1.3687 - accuracy: 0.8067 - val_loss: 2.7312 - val_accuracy: 0.6712\n",
            "Epoch 25/30\n",
            "1302/1302 [==============================] - 85s 65ms/step - loss: 1.3591 - accuracy: 0.8086 - val_loss: 2.7358 - val_accuracy: 0.6711\n",
            "Epoch 26/30\n",
            "1302/1302 [==============================] - 85s 66ms/step - loss: 1.3477 - accuracy: 0.8100 - val_loss: 2.7697 - val_accuracy: 0.6714\n",
            "Epoch 27/30\n",
            "1302/1302 [==============================] - 85s 65ms/step - loss: 1.3408 - accuracy: 0.8112 - val_loss: 2.8011 - val_accuracy: 0.6719\n",
            "Epoch 28/30\n",
            "1302/1302 [==============================] - 86s 66ms/step - loss: 1.3289 - accuracy: 0.8136 - val_loss: 2.7900 - val_accuracy: 0.6754\n",
            "Epoch 29/30\n",
            "1302/1302 [==============================] - 86s 66ms/step - loss: 1.3219 - accuracy: 0.8148 - val_loss: 2.8423 - val_accuracy: 0.6701\n",
            "Epoch 30/30\n",
            "1302/1302 [==============================] - 85s 65ms/step - loss: 1.3097 - accuracy: 0.8165 - val_loss: 2.8591 - val_accuracy: 0.6703\n"
          ]
        },
        {
          "output_type": "execute_result",
          "data": {
            "text/plain": [
              "<keras.callbacks.History at 0x7cf26f09bf40>"
            ]
          },
          "metadata": {},
          "execution_count": 32
        }
      ]
    },
    {
      "cell_type": "code",
      "source": [
        "import numpy as np\n",
        "spa_vocab = target_vectorization.get_vocabulary()\n",
        "spa_index_lookup = dict(zip(range(len(spa_vocab)), spa_vocab))\n",
        "max_decoded_sentence_length = 20\n",
        "\n",
        "def decode_sequence(input_sentence):\n",
        "    tokenized_input_sentence = source_vectorization([input_sentence])\n",
        "    decoded_sentence = \"[start]\"\n",
        "    for i in range(max_decoded_sentence_length):\n",
        "        tokenized_target_sentence = target_vectorization(\n",
        "            [decoded_sentence])[:, :-1]\n",
        "        predictions = transformer(\n",
        "            [tokenized_input_sentence, tokenized_target_sentence])\n",
        "        sampled_token_index = np.argmax(predictions[0, i, :])\n",
        "        sampled_token = spa_index_lookup[sampled_token_index]\n",
        "        decoded_sentence += \" \" + sampled_token\n",
        "        if sampled_token == \"[end]\":\n",
        "            break\n",
        "    return decoded_sentence\n",
        "\n",
        "test_eng_texts = [pair[0] for pair in test_pairs]\n",
        "for _ in range(20):\n",
        "    input_sentence = random.choice(test_eng_texts)\n",
        "    print(\"-\")\n",
        "    print(input_sentence)\n",
        "    print(decode_sequence(input_sentence))"
      ],
      "metadata": {
        "id": "94itgJkRmFJa",
        "colab": {
          "base_uri": "https://localhost:8080/"
        },
        "outputId": "1aaaad65-e55b-4c5f-fbe2-acd267fc5b6a"
      },
      "execution_count": 33,
      "outputs": [
        {
          "output_type": "stream",
          "name": "stdout",
          "text": [
            "-\n",
            "We'll come and visit you.\n",
            "[start] iremos y visitar [end]\n",
            "-\n",
            "A lot of people need our help.\n",
            "[start] mucha gente nuestra necesario es la ayuda [end]\n",
            "-\n",
            "\"May I park here?\" \"No, you can't.\"\n",
            "[start] puedo estacionar aquí no no puede ser [end]\n",
            "-\n",
            "The Japanese tend to identify themselves with the group they belong to.\n",
            "[start] los japoneses [UNK] con [UNK] la banda de cuchillo [end]\n",
            "-\n",
            "The color white is a symbol of purity.\n",
            "[start] el color de blanco es un misterio [end]\n",
            "-\n",
            "I feel like going on a trip.\n",
            "[start] me gusta ir de viaje [end]\n",
            "-\n",
            "It's about time.\n",
            "[start] ya casi es hora [end]\n",
            "-\n",
            "He waited for several seconds and opened the door.\n",
            "[start] Él es la esperando varios problemas y abrió la puerta [end]\n",
            "-\n",
            "You don't want that, do you?\n",
            "[start] no quieres hacerlo verdad [end]\n",
            "-\n",
            "I doubt that Tom has the courage to do what really needs to be done.\n",
            "[start] yo dudo que tom haya [UNK] el valor de hacer realmente que una posibilidad debe hacer [end]\n",
            "-\n",
            "Tom didn't want me to touch him.\n",
            "[start] tom no me quería que él fuera de contacto con él [end]\n",
            "-\n",
            "We want you to help us.\n",
            "[start] queremos que nos ayude [end]\n",
            "-\n",
            "Tom is confused.\n",
            "[start] tom está confuso [end]\n",
            "-\n",
            "What a perfect night!\n",
            "[start] ¡qué noche libre [end]\n",
            "-\n",
            "I remember doing that.\n",
            "[start] me acuerdo haciendo eso [end]\n",
            "-\n",
            "Can we hide in your basement?\n",
            "[start] podemos [UNK] a tu cd [end]\n",
            "-\n",
            "Tomorrow is Mother's Day.\n",
            "[start] el próximo día la madre de la madre está el día de las perros [end]\n",
            "-\n",
            "Tom didn't cry that much.\n",
            "[start] tom no pensó mucho [end]\n",
            "-\n",
            "The soldiers were equipped with weapons.\n",
            "[start] los soldados estaban [UNK] con [UNK] dos [UNK] [end]\n",
            "-\n",
            "My mother isn't at home.\n",
            "[start] mi madre no está en casa [end]\n"
          ]
        }
      ]
    },
    {
      "cell_type": "code",
      "source": [],
      "metadata": {
        "id": "rpzGQVQLzthB"
      },
      "execution_count": null,
      "outputs": []
    }
  ]
}